{
 "cells": [
  {
   "cell_type": "code",
   "execution_count": 2,
   "metadata": {},
   "outputs": [],
   "source": [
    "import pandas as pd\n",
    "import numpy as np"
   ]
  },
  {
   "cell_type": "code",
   "execution_count": 3,
   "metadata": {},
   "outputs": [],
   "source": [
    "file = \"purchase_data.json\"\n"
   ]
  },
  {
   "cell_type": "code",
   "execution_count": 4,
   "metadata": {},
   "outputs": [
    {
     "data": {
      "text/html": [
       "<div>\n",
       "<style scoped>\n",
       "    .dataframe tbody tr th:only-of-type {\n",
       "        vertical-align: middle;\n",
       "    }\n",
       "\n",
       "    .dataframe tbody tr th {\n",
       "        vertical-align: top;\n",
       "    }\n",
       "\n",
       "    .dataframe thead th {\n",
       "        text-align: right;\n",
       "    }\n",
       "</style>\n",
       "<table border=\"1\" class=\"dataframe\">\n",
       "  <thead>\n",
       "    <tr style=\"text-align: right;\">\n",
       "      <th></th>\n",
       "      <th>Age</th>\n",
       "      <th>Gender</th>\n",
       "      <th>Item ID</th>\n",
       "      <th>Item Name</th>\n",
       "      <th>Price</th>\n",
       "      <th>SN</th>\n",
       "    </tr>\n",
       "  </thead>\n",
       "  <tbody>\n",
       "    <tr>\n",
       "      <th>0</th>\n",
       "      <td>38</td>\n",
       "      <td>Male</td>\n",
       "      <td>165</td>\n",
       "      <td>Bone Crushing Silver Skewer</td>\n",
       "      <td>3.37</td>\n",
       "      <td>Aelalis34</td>\n",
       "    </tr>\n",
       "    <tr>\n",
       "      <th>1</th>\n",
       "      <td>21</td>\n",
       "      <td>Male</td>\n",
       "      <td>119</td>\n",
       "      <td>Stormbringer, Dark Blade of Ending Misery</td>\n",
       "      <td>2.32</td>\n",
       "      <td>Eolo46</td>\n",
       "    </tr>\n",
       "    <tr>\n",
       "      <th>2</th>\n",
       "      <td>34</td>\n",
       "      <td>Male</td>\n",
       "      <td>174</td>\n",
       "      <td>Primitive Blade</td>\n",
       "      <td>2.46</td>\n",
       "      <td>Assastnya25</td>\n",
       "    </tr>\n",
       "    <tr>\n",
       "      <th>3</th>\n",
       "      <td>21</td>\n",
       "      <td>Male</td>\n",
       "      <td>92</td>\n",
       "      <td>Final Critic</td>\n",
       "      <td>1.36</td>\n",
       "      <td>Pheusrical25</td>\n",
       "    </tr>\n",
       "    <tr>\n",
       "      <th>4</th>\n",
       "      <td>23</td>\n",
       "      <td>Male</td>\n",
       "      <td>63</td>\n",
       "      <td>Stormfury Mace</td>\n",
       "      <td>1.27</td>\n",
       "      <td>Aela59</td>\n",
       "    </tr>\n",
       "  </tbody>\n",
       "</table>\n",
       "</div>"
      ],
      "text/plain": [
       "   Age Gender  Item ID                                  Item Name  Price  \\\n",
       "0   38   Male      165                Bone Crushing Silver Skewer   3.37   \n",
       "1   21   Male      119  Stormbringer, Dark Blade of Ending Misery   2.32   \n",
       "2   34   Male      174                            Primitive Blade   2.46   \n",
       "3   21   Male       92                               Final Critic   1.36   \n",
       "4   23   Male       63                             Stormfury Mace   1.27   \n",
       "\n",
       "             SN  \n",
       "0     Aelalis34  \n",
       "1        Eolo46  \n",
       "2   Assastnya25  \n",
       "3  Pheusrical25  \n",
       "4        Aela59  "
      ]
     },
     "execution_count": 4,
     "metadata": {},
     "output_type": "execute_result"
    }
   ],
   "source": [
    "df = pd.read_json(file, orient=\"records\")\n",
    "df.head()"
   ]
  },
  {
   "cell_type": "code",
   "execution_count": 5,
   "metadata": {},
   "outputs": [
    {
     "name": "stdout",
     "output_type": "stream",
     "text": [
      "<class 'pandas.core.frame.DataFrame'>\n",
      "RangeIndex: 780 entries, 0 to 779\n",
      "Data columns (total 6 columns):\n",
      "Age          780 non-null int64\n",
      "Gender       780 non-null object\n",
      "Item ID      780 non-null int64\n",
      "Item Name    780 non-null object\n",
      "Price        780 non-null float64\n",
      "SN           780 non-null object\n",
      "dtypes: float64(1), int64(2), object(3)\n",
      "memory usage: 36.6+ KB\n"
     ]
    }
   ],
   "source": [
    "df.info()"
   ]
  },
  {
   "cell_type": "code",
   "execution_count": 6,
   "metadata": {},
   "outputs": [
    {
     "data": {
      "text/plain": [
       "Index(['Age', 'Gender', 'Item ID', 'Item Name', 'Price', 'SN'], dtype='object')"
      ]
     },
     "execution_count": 6,
     "metadata": {},
     "output_type": "execute_result"
    }
   ],
   "source": [
    "df.columns"
   ]
  },
  {
   "cell_type": "code",
   "execution_count": 22,
   "metadata": {},
   "outputs": [
    {
     "name": "stdout",
     "output_type": "stream",
     "text": [
      "There are 573 total players.\n"
     ]
    }
   ],
   "source": [
    "total_players = df.loc[:,[\"Gender\",\"SN\",\"Age\"]]\n",
    "total_players = total_players.drop_duplicates()\n",
    "tp = total_players.count()[0]\n",
    "\n",
    "\n",
    "\n",
    "print(\"There are \" + str(tp) + \" total players.\")"
   ]
  },
  {
   "cell_type": "code",
   "execution_count": 23,
   "metadata": {},
   "outputs": [
    {
     "name": "stdout",
     "output_type": "stream",
     "text": [
      "There are a total of 179 unique items.\n"
     ]
    }
   ],
   "source": [
    "unique_items = df[\"Item Name\"].unique()\n",
    "\n",
    "print(\"There are a total of \" + str(len(unique_items)) + \" unique items.\")"
   ]
  },
  {
   "cell_type": "code",
   "execution_count": 9,
   "metadata": {},
   "outputs": [
    {
     "name": "stdout",
     "output_type": "stream",
     "text": [
      "The average purchase price of an item in Heroes of Pymoli was $2.93\n"
     ]
    }
   ],
   "source": [
    "average_purchase = df[\"Price\"].mean()\n",
    "avg = round(average_purchase,2)\n",
    "\n",
    "print(\"The average purchase price of an item in Heroes of Pymoli was $\" + str(avg))"
   ]
  },
  {
   "cell_type": "code",
   "execution_count": 24,
   "metadata": {},
   "outputs": [
    {
     "name": "stdout",
     "output_type": "stream",
     "text": [
      "The total number of purchases was 780.\n"
     ]
    }
   ],
   "source": [
    "total_purchases = df[\"Price\"].count()\n",
    "\n",
    "print(\"The total number of purchases was \" + str(total_purchases) + \".\")"
   ]
  },
  {
   "cell_type": "code",
   "execution_count": 25,
   "metadata": {},
   "outputs": [
    {
     "name": "stdout",
     "output_type": "stream",
     "text": [
      "The total revenue of purchases was $2286.33.\n"
     ]
    }
   ],
   "source": [
    "revenue = df[\"Price\"].sum()\n",
    "\n",
    "print(\"The total revenue of purchases was $\" + str(revenue) + \".\")"
   ]
  },
  {
   "cell_type": "code",
   "execution_count": 12,
   "metadata": {},
   "outputs": [
    {
     "data": {
      "text/plain": [
       "Male                     465\n",
       "Female                   100\n",
       "Other / Non-Disclosed      8\n",
       "Name: Gender, dtype: int64"
      ]
     },
     "execution_count": 12,
     "metadata": {},
     "output_type": "execute_result"
    }
   ],
   "source": [
    "total_players[\"Gender\"].value_counts()"
   ]
  },
  {
   "cell_type": "code",
   "execution_count": 13,
   "metadata": {},
   "outputs": [
    {
     "data": {
      "text/html": [
       "<div>\n",
       "<style scoped>\n",
       "    .dataframe tbody tr th:only-of-type {\n",
       "        vertical-align: middle;\n",
       "    }\n",
       "\n",
       "    .dataframe tbody tr th {\n",
       "        vertical-align: top;\n",
       "    }\n",
       "\n",
       "    .dataframe thead th {\n",
       "        text-align: right;\n",
       "    }\n",
       "</style>\n",
       "<table border=\"1\" class=\"dataframe\">\n",
       "  <thead>\n",
       "    <tr style=\"text-align: right;\">\n",
       "      <th></th>\n",
       "      <th>Total Count</th>\n",
       "      <th>Percentage of Players</th>\n",
       "    </tr>\n",
       "  </thead>\n",
       "  <tbody>\n",
       "    <tr>\n",
       "      <th>Male</th>\n",
       "      <td>465</td>\n",
       "      <td>81.15</td>\n",
       "    </tr>\n",
       "    <tr>\n",
       "      <th>Female</th>\n",
       "      <td>100</td>\n",
       "      <td>17.45</td>\n",
       "    </tr>\n",
       "    <tr>\n",
       "      <th>Other / Non-Disclosed</th>\n",
       "      <td>8</td>\n",
       "      <td>1.40</td>\n",
       "    </tr>\n",
       "  </tbody>\n",
       "</table>\n",
       "</div>"
      ],
      "text/plain": [
       "                       Total Count  Percentage of Players\n",
       "Male                           465                  81.15\n",
       "Female                         100                  17.45\n",
       "Other / Non-Disclosed            8                   1.40"
      ]
     },
     "execution_count": 13,
     "metadata": {},
     "output_type": "execute_result"
    }
   ],
   "source": [
    "gender_info = total_players[\"Gender\"].value_counts()\n",
    "gender_percents = gender_info / tp *100\n",
    "\n",
    "gender = pd.DataFrame({\"Total Count\": gender_info, \"Percentage of Players\": gender_percents})\n",
    "                                \n",
    "gender = gender.round(2)\n",
    "gender"
   ]
  },
  {
   "cell_type": "code",
   "execution_count": 14,
   "metadata": {},
   "outputs": [
    {
     "data": {
      "text/html": [
       "<div>\n",
       "<style scoped>\n",
       "    .dataframe tbody tr th:only-of-type {\n",
       "        vertical-align: middle;\n",
       "    }\n",
       "\n",
       "    .dataframe tbody tr th {\n",
       "        vertical-align: top;\n",
       "    }\n",
       "\n",
       "    .dataframe thead th {\n",
       "        text-align: right;\n",
       "    }\n",
       "</style>\n",
       "<table border=\"1\" class=\"dataframe\">\n",
       "  <thead>\n",
       "    <tr style=\"text-align: right;\">\n",
       "      <th></th>\n",
       "      <th>Purchase Count</th>\n",
       "      <th>Average Purchase Price</th>\n",
       "      <th>Total Purchase Price</th>\n",
       "      <th>Normalized Total</th>\n",
       "    </tr>\n",
       "  </thead>\n",
       "  <tbody>\n",
       "    <tr>\n",
       "      <th>Female</th>\n",
       "      <td>136</td>\n",
       "      <td>2.82</td>\n",
       "      <td>382.91</td>\n",
       "      <td>3.83</td>\n",
       "    </tr>\n",
       "    <tr>\n",
       "      <th>Male</th>\n",
       "      <td>633</td>\n",
       "      <td>2.95</td>\n",
       "      <td>1867.68</td>\n",
       "      <td>4.02</td>\n",
       "    </tr>\n",
       "    <tr>\n",
       "      <th>Other / Non-Disclosed</th>\n",
       "      <td>11</td>\n",
       "      <td>3.25</td>\n",
       "      <td>35.74</td>\n",
       "      <td>4.47</td>\n",
       "    </tr>\n",
       "  </tbody>\n",
       "</table>\n",
       "</div>"
      ],
      "text/plain": [
       "                       Purchase Count  Average Purchase Price  \\\n",
       "Female                            136                    2.82   \n",
       "Male                              633                    2.95   \n",
       "Other / Non-Disclosed              11                    3.25   \n",
       "\n",
       "                       Total Purchase Price  Normalized Total  \n",
       "Female                               382.91              3.83  \n",
       "Male                                1867.68              4.02  \n",
       "Other / Non-Disclosed                 35.74              4.47  "
      ]
     },
     "execution_count": 14,
     "metadata": {},
     "output_type": "execute_result"
    }
   ],
   "source": [
    "avg_gender_purchase = df.groupby(\"Gender\")\n",
    "\n",
    "gender_info_v2 =df[\"Gender\"].value_counts()\n",
    "\n",
    "avg_g = avg_gender_purchase[\"Price\"].mean()\n",
    "avg_g = avg_g.round(2)\n",
    "\n",
    "total_gender_p = avg_gender_purchase[\"Price\"].sum()\n",
    "total_gender_p = total_gender_p.round(2)\n",
    "\n",
    "normalized_t = total_gender_p / gender[\"Total Count\"]\n",
    "normalized_t = normalized_t.round(2)\n",
    "\n",
    "gender_purchase = pd.DataFrame({\"Purchase Count\": gender_info_v2,\"Average Purchase Price\": avg_g, \n",
    "                                \"Total Purchase Price\":total_gender_p,\"Normalized Total\":normalized_t})\n",
    "\n",
    "gender_purchase"
   ]
  },
  {
   "cell_type": "code",
   "execution_count": 15,
   "metadata": {},
   "outputs": [
    {
     "name": "stdout",
     "output_type": "stream",
     "text": [
      "7\n",
      "45\n"
     ]
    },
    {
     "data": {
      "text/html": [
       "<div>\n",
       "<style scoped>\n",
       "    .dataframe tbody tr th:only-of-type {\n",
       "        vertical-align: middle;\n",
       "    }\n",
       "\n",
       "    .dataframe tbody tr th {\n",
       "        vertical-align: top;\n",
       "    }\n",
       "\n",
       "    .dataframe thead th {\n",
       "        text-align: right;\n",
       "    }\n",
       "</style>\n",
       "<table border=\"1\" class=\"dataframe\">\n",
       "  <thead>\n",
       "    <tr style=\"text-align: right;\">\n",
       "      <th></th>\n",
       "      <th>Total Counts</th>\n",
       "      <th>Percentage of Players</th>\n",
       "    </tr>\n",
       "  </thead>\n",
       "  <tbody>\n",
       "    <tr>\n",
       "      <th>&lt;10</th>\n",
       "      <td>22</td>\n",
       "      <td>3.84</td>\n",
       "    </tr>\n",
       "    <tr>\n",
       "      <th>10-14</th>\n",
       "      <td>54</td>\n",
       "      <td>9.42</td>\n",
       "    </tr>\n",
       "    <tr>\n",
       "      <th>15-19</th>\n",
       "      <td>139</td>\n",
       "      <td>24.26</td>\n",
       "    </tr>\n",
       "    <tr>\n",
       "      <th>20-24</th>\n",
       "      <td>234</td>\n",
       "      <td>40.84</td>\n",
       "    </tr>\n",
       "    <tr>\n",
       "      <th>25-29</th>\n",
       "      <td>52</td>\n",
       "      <td>9.08</td>\n",
       "    </tr>\n",
       "    <tr>\n",
       "      <th>30-34</th>\n",
       "      <td>44</td>\n",
       "      <td>7.68</td>\n",
       "    </tr>\n",
       "    <tr>\n",
       "      <th>35-39</th>\n",
       "      <td>25</td>\n",
       "      <td>4.36</td>\n",
       "    </tr>\n",
       "    <tr>\n",
       "      <th>40+</th>\n",
       "      <td>3</td>\n",
       "      <td>0.52</td>\n",
       "    </tr>\n",
       "  </tbody>\n",
       "</table>\n",
       "</div>"
      ],
      "text/plain": [
       "       Total Counts  Percentage of Players\n",
       "<10              22                   3.84\n",
       "10-14            54                   9.42\n",
       "15-19           139                  24.26\n",
       "20-24           234                  40.84\n",
       "25-29            52                   9.08\n",
       "30-34            44                   7.68\n",
       "35-39            25                   4.36\n",
       "40+               3                   0.52"
      ]
     },
     "execution_count": 15,
     "metadata": {},
     "output_type": "execute_result"
    }
   ],
   "source": [
    "print(df[\"Age\"].min())\n",
    "print(df[\"Age\"].max())\n",
    "\n",
    "bins = [0,10,15,20,25,30,35,40,100]\n",
    "\n",
    "group_labels = [\"<10\",\"10-14\",\"15-19\",\"20-24\",\"25-29\",\"30-34\",\"35-39\",\"40+\"]\n",
    "\n",
    "total_players[\"Age Range\"] = pd.cut(df[\"Age\"],bins, labels=group_labels)\n",
    "\n",
    "age_totals = total_players[\"Age Range\"].value_counts()\n",
    "age_percents = age_totals / tp *100\n",
    "age = pd.DataFrame({\"Total Counts\":age_totals,\"Percentage of Players\":age_percents})\n",
    "age = age.round(2)\n",
    "\n",
    "age.sort_index()"
   ]
  },
  {
   "cell_type": "code",
   "execution_count": 16,
   "metadata": {},
   "outputs": [
    {
     "data": {
      "text/html": [
       "<div>\n",
       "<style scoped>\n",
       "    .dataframe tbody tr th:only-of-type {\n",
       "        vertical-align: middle;\n",
       "    }\n",
       "\n",
       "    .dataframe tbody tr th {\n",
       "        vertical-align: top;\n",
       "    }\n",
       "\n",
       "    .dataframe thead th {\n",
       "        text-align: right;\n",
       "    }\n",
       "</style>\n",
       "<table border=\"1\" class=\"dataframe\">\n",
       "  <thead>\n",
       "    <tr style=\"text-align: right;\">\n",
       "      <th></th>\n",
       "      <th>Purchase Count</th>\n",
       "      <th>Average Purchase Price</th>\n",
       "      <th>Total Purchase Value</th>\n",
       "      <th>Normalized Totals</th>\n",
       "    </tr>\n",
       "  </thead>\n",
       "  <tbody>\n",
       "    <tr>\n",
       "      <th>10-14</th>\n",
       "      <td>78</td>\n",
       "      <td>2.87</td>\n",
       "      <td>224.15</td>\n",
       "      <td>4.15</td>\n",
       "    </tr>\n",
       "    <tr>\n",
       "      <th>15-19</th>\n",
       "      <td>184</td>\n",
       "      <td>2.87</td>\n",
       "      <td>528.74</td>\n",
       "      <td>3.80</td>\n",
       "    </tr>\n",
       "    <tr>\n",
       "      <th>20-24</th>\n",
       "      <td>305</td>\n",
       "      <td>2.96</td>\n",
       "      <td>902.61</td>\n",
       "      <td>3.86</td>\n",
       "    </tr>\n",
       "    <tr>\n",
       "      <th>25-29</th>\n",
       "      <td>76</td>\n",
       "      <td>2.89</td>\n",
       "      <td>219.82</td>\n",
       "      <td>4.23</td>\n",
       "    </tr>\n",
       "    <tr>\n",
       "      <th>30-34</th>\n",
       "      <td>58</td>\n",
       "      <td>3.07</td>\n",
       "      <td>178.26</td>\n",
       "      <td>4.05</td>\n",
       "    </tr>\n",
       "    <tr>\n",
       "      <th>35-39</th>\n",
       "      <td>44</td>\n",
       "      <td>2.90</td>\n",
       "      <td>127.49</td>\n",
       "      <td>5.10</td>\n",
       "    </tr>\n",
       "    <tr>\n",
       "      <th>40+</th>\n",
       "      <td>3</td>\n",
       "      <td>2.88</td>\n",
       "      <td>8.64</td>\n",
       "      <td>2.88</td>\n",
       "    </tr>\n",
       "    <tr>\n",
       "      <th>&lt;10</th>\n",
       "      <td>32</td>\n",
       "      <td>3.02</td>\n",
       "      <td>96.62</td>\n",
       "      <td>4.39</td>\n",
       "    </tr>\n",
       "  </tbody>\n",
       "</table>\n",
       "</div>"
      ],
      "text/plain": [
       "       Purchase Count  Average Purchase Price  Total Purchase Value  \\\n",
       "10-14              78                    2.87                224.15   \n",
       "15-19             184                    2.87                528.74   \n",
       "20-24             305                    2.96                902.61   \n",
       "25-29              76                    2.89                219.82   \n",
       "30-34              58                    3.07                178.26   \n",
       "35-39              44                    2.90                127.49   \n",
       "40+                 3                    2.88                  8.64   \n",
       "<10                32                    3.02                 96.62   \n",
       "\n",
       "       Normalized Totals  \n",
       "10-14               4.15  \n",
       "15-19               3.80  \n",
       "20-24               3.86  \n",
       "25-29               4.23  \n",
       "30-34               4.05  \n",
       "35-39               5.10  \n",
       "40+                 2.88  \n",
       "<10                 4.39  "
      ]
     },
     "execution_count": 16,
     "metadata": {},
     "output_type": "execute_result"
    }
   ],
   "source": [
    "df[\"Age Range\"] = pd.cut(df[\"Age\"],bins,labels=group_labels)\n",
    "\n",
    "age_total_purchase = df.groupby([\"Age Range\"]).sum()[\"Price\"]\n",
    "age_average = df.groupby([\"Age Range\"]).mean()[\"Price\"]\n",
    "age_average = age_average.round(2)\n",
    "age_count = df.groupby([\"Age Range\"]).count()[\"Price\"]\n",
    "\n",
    "normalized_total = age_total_purchase / age[\"Total Counts\"]\n",
    "normalized_total = normalized_total.round(2)\n",
    "\n",
    "age_range_data = pd.DataFrame({\"Purchase Count\": age_count, \"Average Purchase Price\": age_average, \n",
    "                               \"Total Purchase Value\": age_total_purchase, \"Normalized Totals\": normalized_total})\n",
    "age_range_data.sort_index()"
   ]
  },
  {
   "cell_type": "code",
   "execution_count": 17,
   "metadata": {},
   "outputs": [],
   "source": [
    "purchase_count = df.groupby([\"SN\"]).count()[\"Price\"]\n",
    "purchase_average = df.groupby([\"SN\"]).mean()[\"Price\"]\n",
    "purchase_average = purchase_average.round(2)\n",
    "purchase_value = df.groupby([\"SN\"]).sum()[\"Price\"]\n",
    "\n",
    "\n",
    "spender_data = pd.DataFrame({\"Purchase Count\": purchase_count, \"Average Purchase Price\": purchase_average, \n",
    "                               \"Total Purchase Value\": purchase_value})"
   ]
  },
  {
   "cell_type": "code",
   "execution_count": 18,
   "metadata": {},
   "outputs": [
    {
     "data": {
      "text/html": [
       "<div>\n",
       "<style scoped>\n",
       "    .dataframe tbody tr th:only-of-type {\n",
       "        vertical-align: middle;\n",
       "    }\n",
       "\n",
       "    .dataframe tbody tr th {\n",
       "        vertical-align: top;\n",
       "    }\n",
       "\n",
       "    .dataframe thead th {\n",
       "        text-align: right;\n",
       "    }\n",
       "</style>\n",
       "<table border=\"1\" class=\"dataframe\">\n",
       "  <thead>\n",
       "    <tr style=\"text-align: right;\">\n",
       "      <th></th>\n",
       "      <th>Purchase Count</th>\n",
       "      <th>Average Purchase Price</th>\n",
       "      <th>Total Purchase Value</th>\n",
       "    </tr>\n",
       "    <tr>\n",
       "      <th>SN</th>\n",
       "      <th></th>\n",
       "      <th></th>\n",
       "      <th></th>\n",
       "    </tr>\n",
       "  </thead>\n",
       "  <tbody>\n",
       "    <tr>\n",
       "      <th>Undirrala66</th>\n",
       "      <td>5</td>\n",
       "      <td>3.41</td>\n",
       "      <td>17.06</td>\n",
       "    </tr>\n",
       "    <tr>\n",
       "      <th>Saedue76</th>\n",
       "      <td>4</td>\n",
       "      <td>3.39</td>\n",
       "      <td>13.56</td>\n",
       "    </tr>\n",
       "    <tr>\n",
       "      <th>Mindimnya67</th>\n",
       "      <td>4</td>\n",
       "      <td>3.18</td>\n",
       "      <td>12.74</td>\n",
       "    </tr>\n",
       "    <tr>\n",
       "      <th>Haellysu29</th>\n",
       "      <td>3</td>\n",
       "      <td>4.24</td>\n",
       "      <td>12.73</td>\n",
       "    </tr>\n",
       "    <tr>\n",
       "      <th>Eoda93</th>\n",
       "      <td>3</td>\n",
       "      <td>3.86</td>\n",
       "      <td>11.58</td>\n",
       "    </tr>\n",
       "  </tbody>\n",
       "</table>\n",
       "</div>"
      ],
      "text/plain": [
       "             Purchase Count  Average Purchase Price  Total Purchase Value\n",
       "SN                                                                       \n",
       "Undirrala66               5                    3.41                 17.06\n",
       "Saedue76                  4                    3.39                 13.56\n",
       "Mindimnya67               4                    3.18                 12.74\n",
       "Haellysu29                3                    4.24                 12.73\n",
       "Eoda93                    3                    3.86                 11.58"
      ]
     },
     "execution_count": 18,
     "metadata": {},
     "output_type": "execute_result"
    }
   ],
   "source": [
    "spender_data.sort_values(\"Total Purchase Value\", ascending = False).head(5)"
   ]
  },
  {
   "cell_type": "code",
   "execution_count": 19,
   "metadata": {},
   "outputs": [],
   "source": [
    "item_data = df.loc[:,[\"Item ID\",\"Item Name\",\"Price\"]]\n",
    "\n",
    "total_item_purchase = item_data.groupby([\"Item ID\",\"Item Name\"]).sum()[\"Price\"]\n",
    "average_item = item_data.groupby([\"Item ID\",\"Item Name\"]).mean()[\"Price\"]\n",
    "item = item_data.groupby([\"Item ID\",\"Item Name\"]).count()[\"Price\"]\n",
    "\n",
    "items = pd.DataFrame({\"Purchase Count\" : item,\"Item Price\" : average_item,\"Total Purchase Value\" : total_item_purchase})\n"
   ]
  },
  {
   "cell_type": "code",
   "execution_count": 20,
   "metadata": {},
   "outputs": [
    {
     "data": {
      "text/html": [
       "<div>\n",
       "<style scoped>\n",
       "    .dataframe tbody tr th:only-of-type {\n",
       "        vertical-align: middle;\n",
       "    }\n",
       "\n",
       "    .dataframe tbody tr th {\n",
       "        vertical-align: top;\n",
       "    }\n",
       "\n",
       "    .dataframe thead th {\n",
       "        text-align: right;\n",
       "    }\n",
       "</style>\n",
       "<table border=\"1\" class=\"dataframe\">\n",
       "  <thead>\n",
       "    <tr style=\"text-align: right;\">\n",
       "      <th></th>\n",
       "      <th></th>\n",
       "      <th>Purchase Count</th>\n",
       "      <th>Item Price</th>\n",
       "      <th>Total Purchase Value</th>\n",
       "    </tr>\n",
       "    <tr>\n",
       "      <th>Item ID</th>\n",
       "      <th>Item Name</th>\n",
       "      <th></th>\n",
       "      <th></th>\n",
       "      <th></th>\n",
       "    </tr>\n",
       "  </thead>\n",
       "  <tbody>\n",
       "    <tr>\n",
       "      <th>39</th>\n",
       "      <th>Betrayal, Whisper of Grieving Widows</th>\n",
       "      <td>11</td>\n",
       "      <td>2.35</td>\n",
       "      <td>25.85</td>\n",
       "    </tr>\n",
       "    <tr>\n",
       "      <th>84</th>\n",
       "      <th>Arcane Gem</th>\n",
       "      <td>11</td>\n",
       "      <td>2.23</td>\n",
       "      <td>24.53</td>\n",
       "    </tr>\n",
       "    <tr>\n",
       "      <th>31</th>\n",
       "      <th>Trickster</th>\n",
       "      <td>9</td>\n",
       "      <td>2.07</td>\n",
       "      <td>18.63</td>\n",
       "    </tr>\n",
       "    <tr>\n",
       "      <th>175</th>\n",
       "      <th>Woeful Adamantite Claymore</th>\n",
       "      <td>9</td>\n",
       "      <td>1.24</td>\n",
       "      <td>11.16</td>\n",
       "    </tr>\n",
       "    <tr>\n",
       "      <th>13</th>\n",
       "      <th>Serenity</th>\n",
       "      <td>9</td>\n",
       "      <td>1.49</td>\n",
       "      <td>13.41</td>\n",
       "    </tr>\n",
       "  </tbody>\n",
       "</table>\n",
       "</div>"
      ],
      "text/plain": [
       "                                              Purchase Count  Item Price  \\\n",
       "Item ID Item Name                                                          \n",
       "39      Betrayal, Whisper of Grieving Widows              11        2.35   \n",
       "84      Arcane Gem                                        11        2.23   \n",
       "31      Trickster                                          9        2.07   \n",
       "175     Woeful Adamantite Claymore                         9        1.24   \n",
       "13      Serenity                                           9        1.49   \n",
       "\n",
       "                                              Total Purchase Value  \n",
       "Item ID Item Name                                                   \n",
       "39      Betrayal, Whisper of Grieving Widows                 25.85  \n",
       "84      Arcane Gem                                           24.53  \n",
       "31      Trickster                                            18.63  \n",
       "175     Woeful Adamantite Claymore                           11.16  \n",
       "13      Serenity                                             13.41  "
      ]
     },
     "execution_count": 20,
     "metadata": {},
     "output_type": "execute_result"
    }
   ],
   "source": [
    "items.sort_values(\"Purchase Count\", ascending=False).head(5)"
   ]
  },
  {
   "cell_type": "code",
   "execution_count": 21,
   "metadata": {},
   "outputs": [
    {
     "data": {
      "text/html": [
       "<div>\n",
       "<style scoped>\n",
       "    .dataframe tbody tr th:only-of-type {\n",
       "        vertical-align: middle;\n",
       "    }\n",
       "\n",
       "    .dataframe tbody tr th {\n",
       "        vertical-align: top;\n",
       "    }\n",
       "\n",
       "    .dataframe thead th {\n",
       "        text-align: right;\n",
       "    }\n",
       "</style>\n",
       "<table border=\"1\" class=\"dataframe\">\n",
       "  <thead>\n",
       "    <tr style=\"text-align: right;\">\n",
       "      <th></th>\n",
       "      <th></th>\n",
       "      <th>Purchase Count</th>\n",
       "      <th>Item Price</th>\n",
       "      <th>Total Purchase Value</th>\n",
       "    </tr>\n",
       "    <tr>\n",
       "      <th>Item ID</th>\n",
       "      <th>Item Name</th>\n",
       "      <th></th>\n",
       "      <th></th>\n",
       "      <th></th>\n",
       "    </tr>\n",
       "  </thead>\n",
       "  <tbody>\n",
       "    <tr>\n",
       "      <th>34</th>\n",
       "      <th>Retribution Axe</th>\n",
       "      <td>9</td>\n",
       "      <td>4.14</td>\n",
       "      <td>37.26</td>\n",
       "    </tr>\n",
       "    <tr>\n",
       "      <th>115</th>\n",
       "      <th>Spectral Diamond Doomblade</th>\n",
       "      <td>7</td>\n",
       "      <td>4.25</td>\n",
       "      <td>29.75</td>\n",
       "    </tr>\n",
       "    <tr>\n",
       "      <th>32</th>\n",
       "      <th>Orenmir</th>\n",
       "      <td>6</td>\n",
       "      <td>4.95</td>\n",
       "      <td>29.70</td>\n",
       "    </tr>\n",
       "    <tr>\n",
       "      <th>103</th>\n",
       "      <th>Singed Scalpel</th>\n",
       "      <td>6</td>\n",
       "      <td>4.87</td>\n",
       "      <td>29.22</td>\n",
       "    </tr>\n",
       "    <tr>\n",
       "      <th>107</th>\n",
       "      <th>Splitter, Foe Of Subtlety</th>\n",
       "      <td>8</td>\n",
       "      <td>3.61</td>\n",
       "      <td>28.88</td>\n",
       "    </tr>\n",
       "  </tbody>\n",
       "</table>\n",
       "</div>"
      ],
      "text/plain": [
       "                                    Purchase Count  Item Price  \\\n",
       "Item ID Item Name                                                \n",
       "34      Retribution Axe                          9        4.14   \n",
       "115     Spectral Diamond Doomblade               7        4.25   \n",
       "32      Orenmir                                  6        4.95   \n",
       "103     Singed Scalpel                           6        4.87   \n",
       "107     Splitter, Foe Of Subtlety                8        3.61   \n",
       "\n",
       "                                    Total Purchase Value  \n",
       "Item ID Item Name                                         \n",
       "34      Retribution Axe                            37.26  \n",
       "115     Spectral Diamond Doomblade                 29.75  \n",
       "32      Orenmir                                    29.70  \n",
       "103     Singed Scalpel                             29.22  \n",
       "107     Splitter, Foe Of Subtlety                  28.88  "
      ]
     },
     "execution_count": 21,
     "metadata": {},
     "output_type": "execute_result"
    }
   ],
   "source": [
    "items.sort_values(\"Total Purchase Value\", ascending=False).head(5)"
   ]
  },
  {
   "cell_type": "code",
   "execution_count": null,
   "metadata": {},
   "outputs": [],
   "source": [
    "There are four times more players than females which could have effected the purchase types. \n",
    "When the purchases are extrapolated by gender, they spend equally. \n",
    "The bulk of the players are between the ages of 15-24.\n",
    "The items that sold the most did not have a great quantity; 11 is not a large quantity, considering the total number of purchases made.  \n",
    "\n",
    "This information can provide insight on the type of items to produce to increase/maintain revenue for the game. \n"
   ]
  }
 ],
 "metadata": {
  "kernelspec": {
   "display_name": "Python 3",
   "language": "python",
   "name": "python3"
  },
  "language_info": {
   "codemirror_mode": {
    "name": "ipython",
    "version": 3
   },
   "file_extension": ".py",
   "mimetype": "text/x-python",
   "name": "python",
   "nbconvert_exporter": "python",
   "pygments_lexer": "ipython3",
   "version": "3.6.5"
  }
 },
 "nbformat": 4,
 "nbformat_minor": 2
}
